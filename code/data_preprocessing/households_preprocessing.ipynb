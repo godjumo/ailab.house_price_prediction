{
 "cells": [
  {
   "cell_type": "code",
   "execution_count": null,
   "metadata": {},
   "outputs": [],
   "source": [
    "# visualization\n",
    "import matplotlib.pyplot as plt\n",
    "import matplotlib.font_manager as fm\n",
    "fe = fm.FontEntry(\n",
    "    fname=r'/usr/share/fonts/truetype/nanum/NanumGothic.ttf', # ttf 파일이 저장되어 있는 경로\n",
    "    name='NanumBarunGothic')                        # 이 폰트의 원하는 이름 설정\n",
    "fm.fontManager.ttflist.insert(0, fe)              # Matplotlib에 폰트 추가\n",
    "plt.rcParams.update({'font.size': 10, 'font.family': 'NanumBarunGothic'}) # 폰트 설정\n",
    "plt.rc('font', family='NanumBarunGothic')\n",
    "import seaborn as sns\n",
    "\n",
    "# utils\n",
    "import pandas as pd\n",
    "import numpy as np\n",
    "from tqdm import tqdm\n",
    "import pickle\n",
    "import warnings;warnings.filterwarnings('ignore')\n",
    "\n",
    "# Model\n",
    "from sklearn.preprocessing import LabelEncoder\n",
    "from sklearn.model_selection import train_test_split\n",
    "from sklearn.metrics import mean_squared_error\n",
    "from sklearn.ensemble import RandomForestRegressor\n",
    "from sklearn import metrics\n",
    "\n",
    "import eli5\n",
    "from eli5.sklearn import PermutationImportance"
   ]
  },
  {
   "cell_type": "code",
   "execution_count": null,
   "metadata": {},
   "outputs": [],
   "source": [
    "# 필요한 데이터를 load 하겠습니다. 경로는 환경에 맞게 지정해주면 됩니다.\n",
    "train_path = '/data/ephemeral/home/Upstage_ML_Competition01/data/train.csv'\n",
    "test_path  = '/data/ephemeral/home/Upstage_ML_Competition01/data/test.csv'\n",
    "train = pd.read_csv(train_path)\n",
    "test = pd.read_csv(test_path)"
   ]
  },
  {
   "cell_type": "code",
   "execution_count": null,
   "metadata": {},
   "outputs": [],
   "source": [
    "# train/test 구분을 위한 칼럼을 하나 만들어 줍니다.\n",
    "train['is_test'] = 0\n",
    "test['is_test'] = 1\n",
    "concat = pd.concat([train, test])     # 하나의 데이터로 만들어줍니다."
   ]
  },
  {
   "cell_type": "code",
   "execution_count": null,
   "metadata": {},
   "outputs": [],
   "source": [
    "# 위 처럼 아무 의미도 갖지 않는 칼럼은 결측치와 같은 역할을 하므로, np.nan으로 채워 결측치로 인식되도록 합니다.\n",
    "concat['등기신청일자'] = concat['등기신청일자'].replace(' ', np.nan)\n",
    "concat['거래유형'] = concat['거래유형'].replace('-', np.nan)\n",
    "concat['중개사소재지'] = concat['중개사소재지'].replace('-', np.nan)"
   ]
  },
  {
   "cell_type": "code",
   "execution_count": null,
   "metadata": {},
   "outputs": [],
   "source": [
    "# 시군구, 년월 등 분할할 수 있는 변수들은 세부사항 고려를 용이하게 하기 위해 모두 분할해 주겠습니다.\n",
    "concat['구'] = concat['시군구'].map(lambda x : x.split()[1])\n",
    "concat['동'] = concat['시군구'].map(lambda x : x.split()[2])\n",
    "del concat['시군구']\n",
    "\n",
    "concat['계약년'] = concat['계약년월'].astype('str').map(lambda x : x[:4])\n",
    "concat['계약월'] = concat['계약년월'].astype('str').map(lambda x : x[4:])"
   ]
  },
  {
   "cell_type": "code",
   "execution_count": null,
   "metadata": {},
   "outputs": [],
   "source": [
    "# codebook 완성되면 바꿔야함\n",
    "concat = concat.rename(columns={'전용면적(㎡)':'전용면적',\n",
    "                                'k-단지분류(아파트,주상복합등등)' : '단지분류',\n",
    "                                'k-전화번호' : '전화번호', \n",
    "                                'k-팩스번호' : '팩스번호',\n",
    "                                'k-세대타입(분양형태)' : '분양형태',\n",
    "                                'k-관리방식' : '관리방식',\n",
    "                                'k-복도유형' : '복도유형',\n",
    "                                'k-난방방식' : '난방방식',\n",
    "                                'k-전체동수' : '전체동수',\n",
    "                                'k-전체세대수' : '전체세대수',\n",
    "                                'k-건설사(시공사)' : '시공사',\n",
    "                                'k-시행사' : '시행사', \n",
    "                                'k-사용검사일-사용승인일' : '사용검사일-사용승인일',\n",
    "                                'k-연면적' : '연면적',\n",
    "                                'k-주거전용면적' : '주거전용면적',\n",
    "                                'k-관리비부과면적' : '관리비부과면적',\n",
    "                                'k-전용면적별세대현황(60㎡이하)' : '전용면적별세대현황(60㎡이하)',\n",
    "                                'k-전용면적별세대현황(60㎡~85㎡이하)' : '전용면적별세대현황(60㎡~85㎡이하)',\n",
    "                                'k-85㎡~135㎡이하' : '전용면적별세대현황(85㎡~135㎡이하)',\n",
    "                                'k-135㎡초과' : '전용면적별세대현황(135㎡초과)',\n",
    "                                'k-홈페이지' : '홈페이지',\n",
    "                                'k-등록일자' : '등록일자',\n",
    "                                'k-수정일자' : '수정일자',\n",
    "                                '기타/의무/임대/임의=1/2/3/4' : '권리유형',\n",
    "                                'target' : '집값(target)',\n",
    "                                'is_test' : '테스트셋여부'\n",
    "                                })"
   ]
  },
  {
   "cell_type": "code",
   "execution_count": null,
   "metadata": {},
   "outputs": [],
   "source": [
    "# 사용할 변수 추출\n",
    "using_list = ['구', '동','계약년월','계약년', '계약월', '아파트명', '전용면적', '계약일', '층', '건축년도',\n",
    "       '도로명', '거래유형', '단지분류', '분양형태', '전체동수', '전체세대수', '시공사',\n",
    "       '시행사', '연면적', '주거전용면적', '관리비부과면적', '전용면적별세대현황(60㎡이하)',\n",
    "       '전용면적별세대현황(60㎡~85㎡이하)', '전용면적별세대현황(85㎡~135㎡이하)', '전용면적별세대현황(135㎡초과)',\n",
    "       '건축면적', '주차대수', '권리유형', '단지신청일', '집값(target)', '테스트셋여부']"
   ]
  },
  {
   "cell_type": "code",
   "execution_count": null,
   "metadata": {},
   "outputs": [],
   "source": [
    "using_concat = concat[using_list]\n",
    "using_concat"
   ]
  },
  {
   "cell_type": "code",
   "execution_count": null,
   "metadata": {},
   "outputs": [],
   "source": [
    "# 전체세대수에서 Nan인 값\n",
    "using_concat[using_concat[\"테스트셋여부\"]==0][[\"아파트명\", \"전체세대수\", '전용면적별세대현황(60㎡이하)', '전용면적별세대현황(60㎡~85㎡이하)', '전용면적별세대현황(85㎡~135㎡이하)', '전용면적별세대현황(135㎡초과)', \"집값(target)\"]].head(20)"
   ]
  },
  {
   "cell_type": "code",
   "execution_count": null,
   "metadata": {},
   "outputs": [],
   "source": [
    "using_concat[(using_concat[\"테스트셋여부\"]==0) & (using_concat[\"전체세대수\"].isna()==True)][[\"아파트명\", \"전체세대수\", '전용면적별세대현황(60㎡이하)', '전용면적별세대현황(60㎡~85㎡이하)', '전용면적별세대현황(85㎡~135㎡이하)', '전용면적별세대현황(135㎡초과)', \"집값(target)\"]].head(30)"
   ]
  },
  {
   "cell_type": "code",
   "execution_count": null,
   "metadata": {},
   "outputs": [],
   "source": [
    "len(using_concat[(using_concat[\"테스트셋여부\"]==0) & (using_concat[\"전체세대수\"].isna()==True)][\"아파트명\"].unique())"
   ]
  }
 ],
 "metadata": {
  "language_info": {
   "name": "python"
  }
 },
 "nbformat": 4,
 "nbformat_minor": 2
}
